{
 "cells": [
  {
   "cell_type": "code",
   "execution_count": 1,
   "metadata": {},
   "outputs": [],
   "source": [
    "import cv2\n",
    "import os\n",
    "from datetime import datetime"
   ]
  },
  {
   "cell_type": "code",
   "execution_count": 2,
   "metadata": {},
   "outputs": [],
   "source": [
    "face_cascade = cv2.CascadeClassifier('haarcascade_frontalface_default.xml')\n",
    "eye_cascade = cv2.CascadeClassifier('haarcascade_eye.xml')\n",
    "smile_cascade = cv2.CascadeClassifier('haarcascade_smile.xml')\n"
   ]
  },
  {
   "cell_type": "code",
   "execution_count": null,
   "metadata": {},
   "outputs": [],
   "source": []
  },
  {
   "cell_type": "code",
   "execution_count": 3,
   "metadata": {},
   "outputs": [],
   "source": [
    "#gray is the input frame converted into gray scale for the facial recognition \n",
    "#frame is returned with rectangles drawn if faces were found\n",
    "def detect(gray, frame, faceCount, rightNow):\n",
    "\n",
    "    #we require that there must be 5 neighboring accepted features to be classified true\n",
    "    faces = face_cascade.detectMultiScale(gray, 1.3, 5)\n",
    "    for (x, y, w, h) in faces : \n",
    "        \n",
    "        #region of interest to detect the eyes \n",
    "        roi_gray = gray[y:y+h, x:x+w]\n",
    "        roi_color = frame[y:y+h, x:x+w]\n",
    "        \n",
    "        #1.1 is the zoom from the original given image \"roi_gray\"\n",
    "        eyes = eye_cascade.detectMultiScale(roi_gray, 1.1, 3)\n",
    "        \n",
    "        #finding the eyes within the already classified face images to save compute power\n",
    "        face_eyes = []\n",
    "        for (ex, ey, ew, eh) in eyes : \n",
    "            single_eye = {'ex': ex, 'ey': ey, 'ew': ew, 'eh': eh}\n",
    "            \n",
    "            face_eyes.append(single_eye)\n",
    "            \n",
    "        if len(face_eyes) == 2: \n",
    "            faceCount += 1\n",
    "\n",
    "            print(\"2 eyes appearred\")\n",
    "            status = cv2.imwrite('./faces/' + str(rightNow) + '/' + str(faceCount) + '.png', frame[y:y+h, x:x+w])\n",
    "            print(\"face number \" + str(faceCount))\n",
    "\n",
    "        for eye in face_eyes: \n",
    "            #top left coordinates, bottom right coordinates, green, 2 thickness\n",
    "            print(\"current eye : \" + str(eye))\n",
    "            cv2.rectangle(roi_color, (eye['ex'], eye['ey']), (eye['ex'] + eye['ew'], eye['ey'] + eye['eh']), (0, 255, 0), 2)\n",
    "\n",
    "       \n",
    "        #top left coordinates, bottom right coordinates, red, 2 thickness\n",
    "        cv2.rectangle(frame, (x, y), (x + w, y + h), (255, 0, 0), 2)\n",
    "        \n",
    "        smiles = smile_cascade.detectMultiScale(roi_gray, 1.7, 22)\n",
    "        for (sx, sy, sw, sh) in smiles:\n",
    "            cv2.rectangle(roi_color, (sx, sy), (sx+sw, sy+sh), (0, 0, 255), 2)\n",
    "    \n",
    "    return frame, faceCount\n",
    "        \n",
    "    \n",
    "    "
   ]
  },
  {
   "cell_type": "code",
   "execution_count": 4,
   "metadata": {},
   "outputs": [],
   "source": [
    "#edit the argument to 1 if we are using a external camera that is not built into the machine\n",
    "video_capture = cv2.VideoCapture(0)\n",
    "faceCount = 0\n"
   ]
  },
  {
   "cell_type": "code",
   "execution_count": 5,
   "metadata": {},
   "outputs": [],
   "source": [
    "rightNow = datetime.now()\n",
    "os.mkdir('./faces/' + str(rightNow))\n"
   ]
  },
  {
   "cell_type": "code",
   "execution_count": null,
   "metadata": {},
   "outputs": [
    {
     "name": "stdout",
     "output_type": "stream",
     "text": [
      "{'ex': 155, 'ey': 81, 'ew': 49, 'eh': 49}\n",
      "[{'ex': 155, 'ey': 81, 'ew': 49, 'eh': 49}]\n",
      "{'ex': 36, 'ey': 61, 'ew': 68, 'eh': 68}\n",
      "[{'ex': 155, 'ey': 81, 'ew': 49, 'eh': 49}, {'ex': 36, 'ey': 61, 'ew': 68, 'eh': 68}]\n",
      "2 eyes appearred\n",
      "face number 1\n",
      "current eye : {'ex': 155, 'ey': 81, 'ew': 49, 'eh': 49}\n",
      "current eye : {'ex': 36, 'ey': 61, 'ew': 68, 'eh': 68}\n",
      "{'ex': 151, 'ey': 76, 'ew': 60, 'eh': 60}\n",
      "[{'ex': 151, 'ey': 76, 'ew': 60, 'eh': 60}]\n",
      "{'ex': 38, 'ey': 53, 'ew': 72, 'eh': 72}\n",
      "[{'ex': 151, 'ey': 76, 'ew': 60, 'eh': 60}, {'ex': 38, 'ey': 53, 'ew': 72, 'eh': 72}]\n",
      "2 eyes appearred\n",
      "face number 2\n",
      "current eye : {'ex': 151, 'ey': 76, 'ew': 60, 'eh': 60}\n",
      "current eye : {'ex': 38, 'ey': 53, 'ew': 72, 'eh': 72}\n",
      "{'ex': 34, 'ey': 66, 'ew': 67, 'eh': 67}\n",
      "[{'ex': 34, 'ey': 66, 'ew': 67, 'eh': 67}]\n",
      "{'ex': 140, 'ey': 69, 'ew': 69, 'eh': 69}\n",
      "[{'ex': 34, 'ey': 66, 'ew': 67, 'eh': 67}, {'ex': 140, 'ey': 69, 'ew': 69, 'eh': 69}]\n",
      "2 eyes appearred\n",
      "face number 3\n",
      "current eye : {'ex': 34, 'ey': 66, 'ew': 67, 'eh': 67}\n",
      "current eye : {'ex': 140, 'ey': 69, 'ew': 69, 'eh': 69}\n",
      "{'ex': 35, 'ey': 65, 'ew': 68, 'eh': 68}\n",
      "[{'ex': 35, 'ey': 65, 'ew': 68, 'eh': 68}]\n",
      "current eye : {'ex': 35, 'ey': 65, 'ew': 68, 'eh': 68}\n",
      "{'ex': 144, 'ey': 70, 'ew': 59, 'eh': 59}\n",
      "[{'ex': 144, 'ey': 70, 'ew': 59, 'eh': 59}]\n",
      "{'ex': 37, 'ey': 66, 'ew': 62, 'eh': 62}\n",
      "[{'ex': 144, 'ey': 70, 'ew': 59, 'eh': 59}, {'ex': 37, 'ey': 66, 'ew': 62, 'eh': 62}]\n",
      "2 eyes appearred\n",
      "face number 4\n",
      "current eye : {'ex': 144, 'ey': 70, 'ew': 59, 'eh': 59}\n",
      "current eye : {'ex': 37, 'ey': 66, 'ew': 62, 'eh': 62}\n",
      "{'ex': 152, 'ey': 79, 'ew': 57, 'eh': 57}\n",
      "[{'ex': 152, 'ey': 79, 'ew': 57, 'eh': 57}]\n",
      "{'ex': 43, 'ey': 75, 'ew': 62, 'eh': 62}\n",
      "[{'ex': 152, 'ey': 79, 'ew': 57, 'eh': 57}, {'ex': 43, 'ey': 75, 'ew': 62, 'eh': 62}]\n",
      "2 eyes appearred\n",
      "face number 5\n",
      "current eye : {'ex': 152, 'ey': 79, 'ew': 57, 'eh': 57}\n",
      "current eye : {'ex': 43, 'ey': 75, 'ew': 62, 'eh': 62}\n",
      "{'ex': 33, 'ey': 68, 'ew': 61, 'eh': 61}\n",
      "[{'ex': 33, 'ey': 68, 'ew': 61, 'eh': 61}]\n",
      "{'ex': 145, 'ey': 73, 'ew': 58, 'eh': 58}\n",
      "[{'ex': 33, 'ey': 68, 'ew': 61, 'eh': 61}, {'ex': 145, 'ey': 73, 'ew': 58, 'eh': 58}]\n",
      "2 eyes appearred\n",
      "face number 6\n",
      "current eye : {'ex': 33, 'ey': 68, 'ew': 61, 'eh': 61}\n",
      "current eye : {'ex': 145, 'ey': 73, 'ew': 58, 'eh': 58}\n"
     ]
    }
   ],
   "source": [
    "\n",
    "while True : \n",
    "    \n",
    "    _, frame = video_capture.read()\n",
    "    gray = cv2.cvtColor(frame, cv2.COLOR_BGR2GRAY)\n",
    "    canvas, faceCount = detect(gray, frame, faceCount, rightNow)\n",
    "    cv2.imshow('Video', canvas)\n",
    "    \n",
    "    if cv2.waitKey(1) & 0xFF == ord('q'):\n",
    "        break\n",
    "        \n",
    "        "
   ]
  },
  {
   "cell_type": "code",
   "execution_count": null,
   "metadata": {},
   "outputs": [],
   "source": [
    "video_capture.release()\n",
    "cv2.destroyAllWindows()"
   ]
  },
  {
   "cell_type": "code",
   "execution_count": null,
   "metadata": {},
   "outputs": [],
   "source": []
  }
 ],
 "metadata": {
  "kernelspec": {
   "display_name": "env",
   "language": "python",
   "name": "env"
  },
  "language_info": {
   "codemirror_mode": {
    "name": "ipython",
    "version": 3
   },
   "file_extension": ".py",
   "mimetype": "text/x-python",
   "name": "python",
   "nbconvert_exporter": "python",
   "pygments_lexer": "ipython3",
   "version": "3.7.3"
  }
 },
 "nbformat": 4,
 "nbformat_minor": 2
}
